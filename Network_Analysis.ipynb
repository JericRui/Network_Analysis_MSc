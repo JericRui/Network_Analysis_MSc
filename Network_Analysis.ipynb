{
 "cells": [
  {
   "cell_type": "code",
   "execution_count": 1,
   "metadata": {},
   "outputs": [],
   "source": [
    "import networkx as nx \n",
    "import matplotlib.pyplot as plt\n",
    "import numpy as np\n",
    "import pandas as pd"
   ]
  },
  {
   "cell_type": "code",
   "execution_count": 2,
   "metadata": {},
   "outputs": [
    {
     "data": {
      "text/html": [
       "<div>\n",
       "<style scoped>\n",
       "    .dataframe tbody tr th:only-of-type {\n",
       "        vertical-align: middle;\n",
       "    }\n",
       "\n",
       "    .dataframe tbody tr th {\n",
       "        vertical-align: top;\n",
       "    }\n",
       "\n",
       "    .dataframe thead th {\n",
       "        text-align: right;\n",
       "    }\n",
       "</style>\n",
       "<table border=\"1\" class=\"dataframe\">\n",
       "  <thead>\n",
       "    <tr style=\"text-align: right;\">\n",
       "      <th></th>\n",
       "      <th>n</th>\n",
       "      <th>nbr</th>\n",
       "      <th>weight</th>\n",
       "    </tr>\n",
       "  </thead>\n",
       "  <tbody>\n",
       "    <tr>\n",
       "      <th>1</th>\n",
       "      <td>1</td>\n",
       "      <td>2</td>\n",
       "      <td>21</td>\n",
       "    </tr>\n",
       "    <tr>\n",
       "      <th>2</th>\n",
       "      <td>1</td>\n",
       "      <td>3</td>\n",
       "      <td>10</td>\n",
       "    </tr>\n",
       "    <tr>\n",
       "      <th>3</th>\n",
       "      <td>1</td>\n",
       "      <td>4</td>\n",
       "      <td>45</td>\n",
       "    </tr>\n",
       "    <tr>\n",
       "      <th>4</th>\n",
       "      <td>1</td>\n",
       "      <td>5</td>\n",
       "      <td>54</td>\n",
       "    </tr>\n",
       "    <tr>\n",
       "      <th>5</th>\n",
       "      <td>1</td>\n",
       "      <td>6</td>\n",
       "      <td>7</td>\n",
       "    </tr>\n",
       "    <tr>\n",
       "      <th>...</th>\n",
       "      <td>...</td>\n",
       "      <td>...</td>\n",
       "      <td>...</td>\n",
       "    </tr>\n",
       "    <tr>\n",
       "      <th>87</th>\n",
       "      <td>11</td>\n",
       "      <td>13</td>\n",
       "      <td>2</td>\n",
       "    </tr>\n",
       "    <tr>\n",
       "      <th>88</th>\n",
       "      <td>11</td>\n",
       "      <td>15</td>\n",
       "      <td>5</td>\n",
       "    </tr>\n",
       "    <tr>\n",
       "      <th>89</th>\n",
       "      <td>13</td>\n",
       "      <td>14</td>\n",
       "      <td>1</td>\n",
       "    </tr>\n",
       "    <tr>\n",
       "      <th>90</th>\n",
       "      <td>13</td>\n",
       "      <td>15</td>\n",
       "      <td>3</td>\n",
       "    </tr>\n",
       "    <tr>\n",
       "      <th>91</th>\n",
       "      <td>14</td>\n",
       "      <td>15</td>\n",
       "      <td>1</td>\n",
       "    </tr>\n",
       "  </tbody>\n",
       "</table>\n",
       "<p>91 rows × 3 columns</p>\n",
       "</div>"
      ],
      "text/plain": [
       "     n  nbr  weight\n",
       "1    1    2      21\n",
       "2    1    3      10\n",
       "3    1    4      45\n",
       "4    1    5      54\n",
       "5    1    6       7\n",
       "..  ..  ...     ...\n",
       "87  11   13       2\n",
       "88  11   15       5\n",
       "89  13   14       1\n",
       "90  13   15       3\n",
       "91  14   15       1\n",
       "\n",
       "[91 rows x 3 columns]"
      ]
     },
     "execution_count": 2,
     "metadata": {},
     "output_type": "execute_result"
    }
   ],
   "source": [
    "#Read Data\n",
    "\n",
    "df = pd.read_csv(\"..\\data\\out.moreno_kangaroo_kangaroo\", sep = ' ', header = None, escapechar='%',skiprows = 1, names = ['n','nbr','weight'])\n",
    "#df = pd.read_csv(\"..\\data\\out.moreno_lesmis_lesmis\", sep = ' ', header = None, escapechar='%',skiprows = 1, names = ['n','nbr','weight'])\n",
    "df = pd.DataFrame(df)\n",
    "df = df.drop(0, axis=0)\n",
    "df\n",
    "# values of n start from row 1\n",
    "# row 0: 91 states the total number of combinaiton; 17 stats the number of nodes"
   ]
  },
  {
   "cell_type": "code",
   "execution_count": 3,
   "metadata": {},
   "outputs": [],
   "source": [
    "# df.values\n",
    "# pd.DataFrame(df).index\n",
    "# df.values[df['weight']>10,:]\n",
    "# df\n",
    "# df.index = ['prior']+ list(range(1,92))\n",
    "# df = pd.DataFrame(df)\n",
    "# set(df.loc[df['weight']>10,'n'].values)\n",
    "# "
   ]
  },
  {
   "cell_type": "code",
   "execution_count": 4,
   "metadata": {},
   "outputs": [],
   "source": [
    "G = nx.Graph()\n",
    "G.add_weighted_edges_from(df.values)\n",
    "G_edge = list(G.edges.data())"
   ]
  },
  {
   "cell_type": "code",
   "execution_count": 37,
   "metadata": {},
   "outputs": [],
   "source": [
    "# def f(x =3):\n",
    "#     return x+4\n",
    "# f(x= 5)\n",
    "# G_edge[1][2]['weight']\n",
    "# G_edge"
   ]
  },
  {
   "cell_type": "code",
   "execution_count": 6,
   "metadata": {},
   "outputs": [
    {
     "data": {
      "text/plain": [
       "AtlasView({9: {'weight': 1}})"
      ]
     },
     "execution_count": 6,
     "metadata": {},
     "output_type": "execute_result"
    }
   ],
   "source": [
    "\n",
    "G[17]"
   ]
  },
  {
   "cell_type": "code",
   "execution_count": 7,
   "metadata": {},
   "outputs": [
    {
     "data": {
      "image/png": "[encoded data removed]",
      "text/plain": [
       "<Figure size 432x288 with 1 Axes>"
      ]
     },
     "metadata": {},
     "output_type": "display_data"
    }
   ],
   "source": [
    "plt.subplot(121)\n",
    "nx.draw_shell(G, with_labels = True, font_weight = 'bold')\n",
    "plt.show()"
   ]
  },
  {
   "cell_type": "markdown",
   "metadata": {},
   "source": [
    "$$F((i,j)) = w_{ij}\\{\\frac{w_i+w_j}{w_{ij}}- \\sum_{e(i)\\sim (i,j)}\\frac{d(i)}{w_{ij}w_{e(i)}} \\}-\\sum_{e(j)\\sim (i,j)}\\frac{d(j)}{w_{ij}w_{e(j)}} \\}$$"
   ]
  },
  {
   "cell_type": "code",
   "execution_count": 93,
   "metadata": {},
   "outputs": [],
   "source": [
    "\n",
    "\n",
    "def fun_incident_sum_11(G):\n",
    "#For Forman curvature for G wieh edge i,j incident_sum_11\n",
    "#n_i :node i\n",
    "#nbr_j = n_j : node j\n",
    "#nbr_k: the neighbor of node i\n",
    "#eattr_j,eattr_k, the weight with corresponding edges that connects i,j(k)\n",
    "# i,j controls ith row and jth columns respectively\n",
    "    #G is the matrix\n",
    "    totNodes = len(list(G.nodes()))\n",
    "    incident_sum_11 = np.zeros((totNodes,totNodes))\n",
    "    for n_i, nbrs_i in G.adj.items():\n",
    "        for nbr_j,eattr_j in nbrs_i.items():\n",
    "            wt_j = eattr_j['weight']\n",
    "            for nbr_k, eattr_k in nbrs_i.items():\n",
    "                wt_k = eattr_k['weight']\n",
    "                if nbr_k != nbr_j:\n",
    "                    # incident_sum_11[n_i-1,nbr_j-1] = G.degree(n_i)/(wt_j*wt_k)\n",
    "                    if  wt_j*wt_k != 0:\n",
    "                        incident_sum_11[n_i-1,nbr_j-1] += G.degree(n_i)/np.sqrt((wt_j*wt_k))\n",
    "                    # print('n_i:', n_i, \"; nbrs_j \", nbr_j,'; Degree:', G.degree(n_i),'; wt_j ',wt_j,'; wt_k',wt_k )\n",
    "    return(incident_sum_11)\n",
    "                \n",
    "\n",
    "def fun_incident_sum_12(G):\n",
    "#For Forman curvature for G wieh edge i,j incident_sum12\n",
    "#n_i :node j\n",
    "#nbr_j = n_j : node i\n",
    "#nbr_k: the neighbor of node i\n",
    "#eattr_j,eattr_k, the weight with corresponding edges that connects i,j(k)\n",
    "# i,j controls ith row and jth columns respectively\n",
    "    #G is the matrix\n",
    "    totNodes = len(list(G.nodes()))\n",
    "    incident_sum_12 = np.zeros((totNodes,totNodes))\n",
    "    for n_i, nbrs_i in G.adj.items():\n",
    "        for nbr_j,eattr_j in nbrs_i.items():\n",
    "            wt_j = eattr_j['weight']\n",
    "            for nbr_k, eattr_k in nbrs_i.items():\n",
    "                wt_k = eattr_k['weight']\n",
    "                if nbr_k != nbr_j:\n",
    "                    # incident_sum_11[n_i-1,nbr_j-1] = G.degree(n_i)/(wt_j*wt_k)\n",
    "                    if  wt_j*wt_k != 0:\n",
    "                        incident_sum_12[nbr_j-1,n_i-1] += G.degree(n_i)/np.sqrt((wt_j*wt_k))\n",
    "                    # print('n_i:', n_i, \"; nbrs_j \", nbr_j,'; Degree:', G.degree(n_i),'; wt_j ',wt_j,'; wt_k',wt_k )\n",
    "    return(incident_sum_12)            \n",
    "\n",
    "\n",
    "def fun_Weight_matrix(G):\n",
    "    totNodes = len(list(G.nodes()))\n",
    "    wt_mtx = np.zeros((totNodes,totNodes))\n",
    "    for n_i, nbrs_i in G.adj.items():\n",
    "        for nbr_j, eattr_j in nbrs_i.items():\n",
    "            wt_j = eattr_j['weight']\n",
    "            wt_mtx[n_i-1,nbr_j-1] = np.float32(wt_j)\n",
    "    return(wt_mtx)\n",
    "\n",
    "def fun_first_part_matrix_1(G):\n",
    "    totNodes = len(list(G.nodes()))\n",
    "    wt_mtx = np.zeros((totNodes,totNodes)) \n",
    "    for n_i, nbrs in G.adj.items():\n",
    "        for nbr_j, ettar_j in nbrs.items():\n",
    "            wt_j = ettar_j['weight']\n",
    "            wt_mtx[n_i-1,nbr_j-1] = (G.degree(n_i) + G.degree(nbr_j))/wt_j\n",
    "    return(wt_mtx)\n",
    "\n",
    "\n",
    "    \n",
    "def fun_Forman_edge_curvature_matrix_1(G):\n",
    "    inci_matrix_11 = fun_incident_sum_11(G)\n",
    "    inci_matrix_12 = fun_incident_sum_12(G)\n",
    "    Weight_mtx = fun_Weight_matrix(G)\n",
    "    first_pmtx_1 = fun_first_part_matrix_1(G)\n",
    "    FC_Edge_Val = Weight_mtx * (first_pmtx_1 - inci_matrix_11-inci_matrix_12)\n",
    "    return(FC_Edge_Val)\n",
    "\n",
    "\n",
    "def fun_Forman_node_curvature_matrix_1(FC_edg_mtx):\n",
    "    rows, columns = FC_edg_mtx.shape\n",
    "    tmp_matrix = np.zeros([rows,columns],dtype=float)\n",
    "    for n_i, nbrs in G.adj.items():\n",
    "        for nbr_j, _ in nbrs.items():\n",
    "            for n_j, nbrsk in G.adj.items():\n",
    "                if n_j == nbr_j:\n",
    "                    # we only search for (n_j = nbr_k) n_j is equavelent to nbr_j\n",
    "                    for nbr_k, _ in nbrsk.items():\n",
    "                        tmp_matrix[n_i-1,nbr_j-1] += FC_edg_mtx[n_j-1,nbr_k-1]\n",
    "    return tmp_matrix\n",
    "    \n",
    "\n",
    "\n",
    "\n",
    "\n"
   ]
  },
  {
   "cell_type": "code",
   "execution_count": 38,
   "metadata": {},
   "outputs": [],
   "source": [
    "FC_edg_mtx_1 = fun_Forman_edge_curvature_matrix_1(G)\n",
    "# FC_edg_mtx_1 "
   ]
  },
  {
   "cell_type": "code",
   "execution_count": 32,
   "metadata": {},
   "outputs": [],
   "source": [
    "# inci_matrix_11 = fun_incident_sum_11(G)\n",
    "# inci_matrix_12 = fun_incident_sum_12(G)\n",
    "# Weight_mtx = fun_Weight_matrix(G)\n",
    "# first_pmtx_1 = fun_first_part_matrix_1(G)\n",
    "# FC_Edge_Val = Weight_mtx * (first_pmtx_1 - inci_matrix_11-inci_matrix_12)\n",
    "# FC_Edge_Val2 =np.multiply(Weight_mtx ,(first_pmtx_1 - inci_matrix_11-inci_matrix_12))\n",
    "# FC_Edge_Val3 =np.dot(Weight_mtx ,(first_pmtx_1 - inci_matrix_11-inci_matrix_12))\n"
   ]
  },
  {
   "cell_type": "code",
   "execution_count": 99,
   "metadata": {},
   "outputs": [
    {
     "data": {
      "text/plain": [
       "array([[0.00000000e+00, 6.65880322e-02, 2.83065424e-02, 8.49612501e-02,\n",
       "        2.59882093e-02, 6.37165062e-02, 1.31014992e-01, 2.22261985e-01,\n",
       "        5.19604924e-03, 2.46869996e-01, 6.80462910e-02, 3.84356419e-01,\n",
       "        4.15256268e-01, 9.28843433e-01, 1.39404221e-01, 0.00000000e+00,\n",
       "        0.00000000e+00],\n",
       "       [5.48214663e-02, 0.00000000e+00, 2.72705357e-02, 5.47646020e-02,\n",
       "        1.56572381e-02, 3.99019408e-02, 9.74457561e-02, 2.26556486e-01,\n",
       "        1.05113730e-02, 2.52955267e-01, 8.92667074e-02, 3.06846849e-01,\n",
       "        4.26263583e-01, 7.40566770e-01, 2.14536245e-01, 0.00000000e+00,\n",
       "        0.00000000e+00],\n",
       "       [3.18194518e-02, 3.72344609e-02, 0.00000000e+00, 2.98315339e-02,\n",
       "        9.56804435e-03, 3.53681335e-02, 5.96189766e-02, 2.00766650e-01,\n",
       "        8.68300990e-03, 2.12469297e-01, 7.35460177e-02, 0.00000000e+00,\n",
       "        0.00000000e+00, 0.00000000e+00, 1.21141313e-01, 1.12503649e+02,\n",
       "        0.00000000e+00],\n",
       "       [8.40058232e-02, 6.57709276e-02, 2.62396607e-02, 0.00000000e+00,\n",
       "        2.44831189e-02, 6.61461627e-02, 1.41781104e-01, 2.32134764e-01,\n",
       "        2.71061422e-03, 2.19573536e-01, 6.52160329e-02, 4.03671379e-01,\n",
       "        4.40561369e-01, 9.87961550e-01, 1.74458056e-01, 0.00000000e+00,\n",
       "        0.00000000e+00],\n",
       "       [1.03461905e-01, 7.57120149e-02, 3.38860874e-02, 9.85785349e-02,\n",
       "        0.00000000e+00, 6.72448051e-02, 1.60650434e-01, 2.59205146e-01,\n",
       "        6.11897189e-03, 3.01189129e-01, 7.35966320e-02, 2.31762404e-01,\n",
       "        5.12034428e-01, 1.15709939e+00, 1.68597216e-01, 1.30350308e+02,\n",
       "        0.00000000e+00],\n",
       "       [3.49752446e-02, 2.66040870e-02, 1.72709044e-02, 3.67218848e-02,\n",
       "        9.27178666e-03, 0.00000000e+00, 7.28047347e-02, 2.63606633e-01,\n",
       "        4.87435038e-03, 2.02134273e-01, 4.99881224e-02, 4.65242482e-01,\n",
       "        6.64433488e-01, 5.89775431e-01, 2.02289106e-01, 0.00000000e+00,\n",
       "        0.00000000e+00],\n",
       "       [4.26485213e-02, 3.85293291e-02, 1.72648032e-02, 4.66780647e-02,\n",
       "        1.31359283e-02, 4.31751446e-02, 0.00000000e+00, 2.07726398e-01,\n",
       "        0.00000000e+00, 0.00000000e+00, 5.14320629e-02, 3.51318608e-01,\n",
       "        2.33320560e-01, 8.27723209e-01, 1.26471362e-01, 0.00000000e+00,\n",
       "        0.00000000e+00],\n",
       "       [1.13482903e-02, 1.40503545e-02, 9.11907844e-03, 1.19871774e-02,\n",
       "        3.32433476e-03, 2.45195657e-02, 3.25817160e-02, 0.00000000e+00,\n",
       "        3.31558693e-03, 1.37440426e-01, 2.64849868e-02, 2.50069776e-01,\n",
       "        0.00000000e+00, 0.00000000e+00, 0.00000000e+00, 0.00000000e+00,\n",
       "        0.00000000e+00],\n",
       "       [1.89790639e-02, 4.66344127e-02, 2.82140842e-02, 1.00133811e-02,\n",
       "        5.61404478e-03, 3.24346687e-02, 0.00000000e+00, 2.37190179e-01,\n",
       "        0.00000000e+00, 3.33177379e-01, 8.23654167e-02, 2.06896066e-01,\n",
       "        0.00000000e+00, 0.00000000e+00, 1.16495721e-01, 0.00000000e+00,\n",
       "        6.78356999e+02],\n",
       "       [1.77908387e-02, 2.21420268e-02, 1.36212958e-02, 1.60036708e-02,\n",
       "        5.45209342e-03, 2.65374545e-02, 0.00000000e+00, 1.93989114e-01,\n",
       "        6.57358209e-03, 0.00000000e+00, 6.14107690e-02, 1.58099616e-01,\n",
       "        0.00000000e+00, 0.00000000e+00, 0.00000000e+00, 0.00000000e+00,\n",
       "        0.00000000e+00],\n",
       "       [2.91610654e-02, 4.64658598e-02, 2.80383351e-02, 2.82660295e-02,\n",
       "        7.92232680e-03, 3.90262611e-02, 6.77095439e-02, 2.22296919e-01,\n",
       "        9.66367463e-03, 3.65187036e-01, 0.00000000e+00, 1.90073837e-01,\n",
       "        4.13257341e-01, 0.00000000e+00, 1.87432700e-01, 0.00000000e+00,\n",
       "        0.00000000e+00],\n",
       "       [1.73742317e-02, 1.68476244e-02, 0.00000000e+00, 1.84548675e-02,\n",
       "        2.63154222e-03, 3.83126356e-02, 4.87853743e-02, 2.21394807e-01,\n",
       "        2.56048464e-03, 9.91685984e-02, 2.00491001e-02, 0.00000000e+00,\n",
       "        0.00000000e+00, 0.00000000e+00, 0.00000000e+00, 0.00000000e+00,\n",
       "        0.00000000e+00],\n",
       "       [1.16984356e-02, 1.45859713e-02, 0.00000000e+00, 1.25524791e-02,\n",
       "        3.62331956e-03, 3.40999936e-02, 2.01921060e-02, 0.00000000e+00,\n",
       "        0.00000000e+00, 0.00000000e+00, 2.71664719e-02, 0.00000000e+00,\n",
       "        0.00000000e+00, 3.57509113e-01, 1.15113111e-01, 0.00000000e+00,\n",
       "        0.00000000e+00],\n",
       "       [1.37178870e-02, 1.32847828e-02, 0.00000000e+00, 1.47569379e-02,\n",
       "        4.29250941e-03, 1.58680140e-02, 3.75531917e-02, 0.00000000e+00,\n",
       "        0.00000000e+00, 0.00000000e+00, 0.00000000e+00, 0.00000000e+00,\n",
       "        1.87421854e-01, 0.00000000e+00, 4.98633479e-02, 0.00000000e+00,\n",
       "        0.00000000e+00],\n",
       "       [1.60977101e-02, 3.00908452e-02, 1.24444179e-02, 2.03746758e-02,\n",
       "        4.89028829e-03, 4.25551245e-02, 4.48639378e-02, 0.00000000e+00,\n",
       "        3.68295678e-03, 0.00000000e+00, 5.05050273e-02, 0.00000000e+00,\n",
       "        4.71847194e-01, 3.89874568e-01, 0.00000000e+00, 0.00000000e+00,\n",
       "        0.00000000e+00],\n",
       "       [0.00000000e+00, 0.00000000e+00, 4.73110477e-03, 0.00000000e+00,\n",
       "        1.54778192e-03, 0.00000000e+00, 0.00000000e+00, 0.00000000e+00,\n",
       "        0.00000000e+00, 0.00000000e+00, 0.00000000e+00, 0.00000000e+00,\n",
       "        0.00000000e+00, 0.00000000e+00, 0.00000000e+00, 0.00000000e+00,\n",
       "        0.00000000e+00],\n",
       "       [0.00000000e+00, 0.00000000e+00, 0.00000000e+00, 0.00000000e+00,\n",
       "        0.00000000e+00, 0.00000000e+00, 0.00000000e+00, 0.00000000e+00,\n",
       "        1.37119702e-03, 0.00000000e+00, 0.00000000e+00, 0.00000000e+00,\n",
       "        0.00000000e+00, 0.00000000e+00, 0.00000000e+00, 0.00000000e+00,\n",
       "        0.00000000e+00]])"
      ]
     },
     "execution_count": 99,
     "metadata": {},
     "output_type": "execute_result"
    }
   ],
   "source": [
    "fun_rfc_comms(FC_edg_mtx_1, alpha= np.ones(totNodes), G=G)"
   ]
  },
  {
   "cell_type": "code",
   "execution_count": 33,
   "metadata": {},
   "outputs": [
    {
     "data": {
      "text/plain": [
       "False"
      ]
     },
     "execution_count": 33,
     "metadata": {},
     "output_type": "execute_result"
    }
   ],
   "source": [
    "\n",
    "# np.all(FC_Edge_Val == FC_Edge_Val3)\n"
   ]
  },
  {
   "cell_type": "code",
   "execution_count": 9,
   "metadata": {},
   "outputs": [],
   "source": [
    "\n",
    "# totNodes = len(list(G.nodes()))\n",
    "# incident_sum_11 = np.zeros((totNodes,totNodes))\n",
    "# # incident_sum1 = np.zeros((totNodes,totNodes))\n",
    "# incident_sum1[0,0] = 1\n",
    "# aa = 0\n",
    "# for i in range(10):\n",
    "#     for j in range(10):\n",
    "#         incident_sum1[i,j] = i+j\n",
    "# incident_sum1"
   ]
  },
  {
   "cell_type": "code",
   "execution_count": 42,
   "metadata": {},
   "outputs": [],
   "source": [
    "#Necessary Functions:\n",
    "\n",
    "def scale(X):\n",
    "    #scale along the columns, i.e. turn into stochastic matrix with sum of row into 1\n",
    "    tt = X.sum(axis = 1)\n",
    "    X = X/tt\n",
    "    return X"
   ]
  },
  {
   "cell_type": "code",
   "execution_count": 45,
   "metadata": {},
   "outputs": [
    {
     "data": {
      "text/plain": [
       "matrix([[1.],\n",
       "        [1.]])"
      ]
     },
     "execution_count": 45,
     "metadata": {},
     "output_type": "execute_result"
    }
   ],
   "source": [
    "# X = np.matrix([[1,2,3],[4,5,6]])\n",
    "# scale(X)\n",
    "# scale(X).sum(axis = 1)"
   ]
  },
  {
   "cell_type": "code",
   "execution_count": 83,
   "metadata": {},
   "outputs": [
    {
     "data": {
      "text/plain": [
       "1.0"
      ]
     },
     "execution_count": 83,
     "metadata": {},
     "output_type": "execute_result"
    }
   ],
   "source": [
    "# rows, columns = FC_edg_mtx.shape\n",
    "# for j in range(columns):\n",
    "#     FC_edg_mtx[:,j] = FC_edg_mtx[:,j]/G.degree(j+1)\n",
    "# alpha_j = 1\n",
    "# FC_edg_mtx = alpha_j *np.abs(FC_edg_mtx)\n",
    "\n",
    "# j = 1\n",
    "# FC_edg_mtx[:,1]\n",
    "# alpha[1]\n",
    "\n",
    "# alpha = np.ones([totNodes])\n",
    "# pd.DataFrame(fun_rfc_cc_dd(FC_edg_mtx,alpha)).head()"
   ]
  },
  {
   "cell_type": "code",
   "execution_count": null,
   "metadata": {},
   "outputs": [],
   "source": []
  },
  {
   "cell_type": "code",
   "execution_count": 85,
   "metadata": {},
   "outputs": [
    {
     "data": {
      "text/plain": [
       "11"
      ]
     },
     "execution_count": 85,
     "metadata": {},
     "output_type": "execute_result"
    }
   ],
   "source": [
    "# def increment(number):\n",
    "#    # inner function should appear before the reference \n",
    "#     def inner_increment():\n",
    "#         return number + 1\n",
    "#     a = inner_increment()\n",
    "#     return a\n",
    "\n",
    "\n",
    "# increment(10)"
   ]
  },
  {
   "cell_type": "code",
   "execution_count": 95,
   "metadata": {},
   "outputs": [],
   "source": [
    "# Now take Define function H\n",
    "# Note Alpha_j should be a array vector 1 cross n \n",
    "\n",
    "def fun_rfc(FC_edg_mtx):\n",
    "    # relative_forman_curvature\n",
    "    FC_edg_mtx = np.abs(FC_edg_mtx)\n",
    "    return scale(FC_edg_mtx)\n",
    "\n",
    "def fun_rfc_dd(FC_edg_mtx):\n",
    "    # relative_forman_curvature_Degree_Divided\n",
    "    FC_edg_mtx = np.abs(FC_edg_mtx)\n",
    "    rows, columns = FC_edg_mtx.shape\n",
    "    for j in range(columns):\n",
    "        FC_edg_mtx[:,j] = FC_edg_mtx[:,j]/G.degree(j+1)\n",
    "    return scale(FC_edg_mtx)\n",
    "\n",
    "def fun_rfc_cc(FC_edg_mtx,alpha):\n",
    "    # relative_fc_with_cc\n",
    "    FC_edg_mtx = np.abs(FC_edg_mtx)\n",
    "    rows, columns = FC_edg_mtx.shape\n",
    "    for j in range(columns):\n",
    "        FC_edg_mtx[:,j] = FC_edg_mtx[:,j]* alpha[j]\n",
    "    return scale(FC_edg_mtx)\n",
    "\n",
    "\n",
    "def fun_rfc_cc_dd(FC_edg_mtx,alpha):\n",
    "    # relative_fc_with_cc_Degree_Divided\n",
    "    FC_edg_mtx = np.abs(FC_edg_mtx)\n",
    "    rows, columns = FC_edg_mtx.shape\n",
    "    for j in range(columns):\n",
    "        FC_edg_mtx[:,j] = (FC_edg_mtx[:,j]*alpha[j])/G.degree(j+1)\n",
    "    return scale(FC_edg_mtx)\n",
    "\n",
    "def fun_rfc_comms(FC_edg_mtx, alpha,G):\n",
    "    # relative_forman_curvature\n",
    "    FC_edg_mtx = np.abs(FC_edg_mtx)\n",
    "    first_part = fun_rfc_cc_dd(FC_edg_mtx,alpha)\n",
    "    \n",
    "    def fun_last_part(FC_edg_mtx,G):\n",
    "        #Construct matrix \\sum_{e(j)~(i,j)}|F(j,k)|\n",
    "        #FC_edg_mtx = np.abs(FC_edg_mtx) #Since it already Exists in the outer function\n",
    "        rows, columns = FC_edg_mtx.shape\n",
    "        tmp_matrix = np.zeros([rows,columns],dtype=float)\n",
    "        for n_i, nbrs in G.adj.items():\n",
    "            for nbr_j, _ in nbrs.items():\n",
    "                for n_j, nbrsk in G.adj.items():\n",
    "                    if n_j == nbr_j:\n",
    "                        # we only search for (n_j = nbr_k) n_j is equavelent to nbr_j\n",
    "                        for nbr_k, _ in nbrsk.items():\n",
    "                            if nbr_k != n_i:\n",
    "                                #exclude edge (i,j)\n",
    "                                tmp_matrix[n_i-1,nbr_j-1] += FC_edg_mtx[n_j-1,nbr_k-1]\n",
    "        for j in range(columns):\n",
    "            tmp_matrix = FC_edg_mtx[:,j]* (1-alpha[j])\n",
    "        return tmp_matrix\n",
    "\n",
    "    last_part = fun_last_part(FC_edg_mtx,G)\n",
    "    Final_matrix = first_part + last_part\n",
    "\n",
    "    return scale(Final_matrix)\n",
    "\n",
    "\n",
    "\n"
   ]
  }
 ],
 "metadata": {
  "kernelspec": {
   "display_name": "Python 3.8.10 64-bit (windows store)",
   "language": "python",
   "name": "python3"
  },
  "language_info": {
   "codemirror_mode": {
    "name": "ipython",
    "version": 3
   },
   "file_extension": ".py",
   "mimetype": "text/x-python",
   "name": "python",
   "nbconvert_exporter": "python",
   "pygments_lexer": "ipython3",
   "version": "3.8.10"
  },
  "orig_nbformat": 4,
  "vscode": {
   "interpreter": {
    "hash": "106568f98d503647974a53a46bd8992187b3764b532a3f3e2f00f82804b42abc"
   }
  }
 },
 "nbformat": 4,
 "nbformat_minor": 2
}
